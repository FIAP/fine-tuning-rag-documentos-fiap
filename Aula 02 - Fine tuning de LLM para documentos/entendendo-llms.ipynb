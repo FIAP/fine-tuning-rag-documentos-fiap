{
 "cells": [
  {
   "cell_type": "code",
   "execution_count": null,
   "metadata": {},
   "outputs": [],
   "source": [
    "!pip install spacy\n",
    "!python -m spacy download en_core_web_md"
   ]
  },
  {
   "cell_type": "code",
   "execution_count": null,
   "metadata": {},
   "outputs": [],
   "source": [
    "import spacy\n",
    "\n",
    "# Carregar o modelo pré-treinado do spaCy\n",
    "nlp = spacy.load('en_core_web_md')\n",
    "\n",
    "def tokenize_sentence(sentence):\n",
    "    doc = nlp(sentence)\n",
    "    return [token.text for token in doc]\n",
    "\n",
    "def generate_embeddings(sentence):\n",
    "    doc = nlp(sentence)\n",
    "    return [token.vector for token in doc]\n",
    "\n",
    "def print_matrix(matrix):\n",
    "    for row in matrix:\n",
    "        print(row)"
   ]
  },
  {
   "cell_type": "code",
   "execution_count": null,
   "metadata": {},
   "outputs": [],
   "source": [
    "# Exemplo de uso\n",
    "sentence = \"Let's generate the embeddings for this sentence.\"\n",
    "\n",
    "# Tokenizar a frase\n",
    "tokens = tokenize_sentence(sentence)\n",
    "print(\"Tokens:\", tokens)\n",
    "\n",
    "# Gerar embeddings\n",
    "embeddings = generate_embeddings(sentence)\n",
    "\n",
    "# Mostrar a matriz de embeddings\n",
    "print(\"Embedding Matrix:\")\n",
    "print_matrix(embeddings)\n"
   ]
  },
  {
   "cell_type": "code",
   "execution_count": null,
   "metadata": {},
   "outputs": [],
   "source": []
  }
 ],
 "metadata": {
  "language_info": {
   "name": "python"
  }
 },
 "nbformat": 4,
 "nbformat_minor": 2
}
